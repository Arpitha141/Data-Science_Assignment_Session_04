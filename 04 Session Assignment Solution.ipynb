{
 "cells": [
  {
   "cell_type": "markdown",
   "metadata": {},
   "source": [
    "## 1.1 Write a Python Program(with class concepts) to find the area of the triangle using the below formula.\n",
    "\n",
    "area = (s*(s-a)*(s-b)*(s-c)) *** 0.5\n",
    "\n",
    "Function to take the length of the sides of triangle from user should be defined in the parent\n",
    "class and function to calculate the area should be defined in subclass."
   ]
  },
  {
   "cell_type": "code",
   "execution_count": 1,
   "metadata": {},
   "outputs": [
    {
     "name": "stdout",
     "output_type": "stream",
     "text": [
      "Area of Triangle with sides 3,4,5 is: 6.0\n"
     ]
    }
   ],
   "source": [
    "class triangle:\n",
    "    def __init__(self,side1,side2,side3):\n",
    "        self.side1=side1\n",
    "        self.side2=side2\n",
    "        self.side3=side3 \n",
    "        \n",
    "class subClassTriangle(triangle):\n",
    "        def __init__(self,side1,side2,side3):\n",
    "            triangle.__init__(self,side1,side2,side3)\n",
    "        \n",
    "        def area_Of_Triangle(self):\n",
    "            s = (self.side1+self.side2+self.side3)/2\n",
    "            return (s*(s-self.side1)*(s-self.side2)*(s-self.side3))**0.5\n",
    "        \n",
    "\n",
    "triangle_sides = subClassTriangle(3,4,5)\n",
    "print('Area of Triangle with sides 3,4,5 is: ' +str(triangle_sides.area_Of_Triangle()))\n",
    "        "
   ]
  },
  {
   "cell_type": "markdown",
   "metadata": {},
   "source": [
    "## 1.2 Write a function filter_long_words() that takes a list of words and an integer n and returns the list of words that are longer than n."
   ]
  },
  {
   "cell_type": "code",
   "execution_count": 2,
   "metadata": {},
   "outputs": [
    {
     "name": "stdout",
     "output_type": "stream",
     "text": [
      "New List of Words  => ['This', 'beautiful']\n"
     ]
    }
   ],
   "source": [
    "# Solution using class concept \n",
    "\n",
    "class list_Utilities:\n",
    "    def __init__(self, wordlist):\n",
    "        self.wordlist = wordlist\n",
    "    \n",
    "    def filter_long_words(self, n):\n",
    "        return list(filter(lambda x:len(x) > n, self.wordlist))\n",
    "\n",
    "instance = list_Utilities([\"This\",\"is\",\"a\",\"beautiful\",\"day\"])\n",
    "print (\"New List of Words  => \" + str(instance.filter_long_words(3)) ) "
   ]
  },
  {
   "cell_type": "code",
   "execution_count": 3,
   "metadata": {},
   "outputs": [
    {
     "data": {
      "text/plain": [
       "['Beautiful', 'language', 'knowledge']"
      ]
     },
     "execution_count": 3,
     "metadata": {},
     "output_type": "execute_result"
    }
   ],
   "source": [
    "# Solution using Function concept\n",
    "\n",
    "def filter_long_words(wordList,n):\n",
    "    return list(filter(lambda x:len(x)>n,wordList))\n",
    "\n",
    "filter_long_words(['This','Beautiful','color','python','language','knowledge'],7)"
   ]
  },
  {
   "cell_type": "markdown",
   "metadata": {},
   "source": [
    "## 2.1 Write a Python program using function concept that maps list of words into a list of integers representing the lengths of the corresponding words .\n",
    "\n",
    "Hint: If a list [ ab,cde,erty] is passed on to the python function output should come as [2,3,4]\n",
    "Here 2,3 and 4 are the lengths of the words in the list."
   ]
  },
  {
   "cell_type": "code",
   "execution_count": 4,
   "metadata": {},
   "outputs": [
    {
     "name": "stdout",
     "output_type": "stream",
     "text": [
      "[2, 3, 4]\n"
     ]
    }
   ],
   "source": [
    "#Solution using list comprehension\n",
    "def get_word_length(wordList):\n",
    "    return [len(x) for x in wordList]\n",
    "\n",
    "print(get_word_length(['ab','cde','erty']))"
   ]
  },
  {
   "cell_type": "code",
   "execution_count": 5,
   "metadata": {},
   "outputs": [
    {
     "name": "stdout",
     "output_type": "stream",
     "text": [
      "word lengths in array => [4, 2, 1, 9, 3]\n"
     ]
    }
   ],
   "source": [
    "wordlist = [\"This\", \"is\", \"a\", \"beautiful\", \"day\"]\n",
    "\n",
    "#Solution using list , map and lambda\n",
    "def wordlength(wordlist):\n",
    "    return list(map(lambda x: len(x), wordlist))\n",
    "\n",
    "print (\"word lengths in array => \" + str(wordlength(wordlist)))"
   ]
  },
  {
   "cell_type": "markdown",
   "metadata": {},
   "source": [
    "## 2.2 Write a Python function which takes a character (i.e. a string of length 1) and returns True if it is a vowel, False otherwise."
   ]
  },
  {
   "cell_type": "code",
   "execution_count": 6,
   "metadata": {},
   "outputs": [
    {
     "name": "stdout",
     "output_type": "stream",
     "text": [
      "'a' is a vowel:  True\n",
      "'b' is a vowel:  False\n",
      "'2' is a vowel: False\n"
     ]
    }
   ],
   "source": [
    "def vowel_check(char):\n",
    "    if(char in ['a','e','i','o','u']):\n",
    "        return True\n",
    "    else:\n",
    "        return False\n",
    "\n",
    "print(\"'a' is a vowel: \" ,str(vowel_check('a')))\n",
    "print(\"'b' is a vowel: \",str(vowel_check('b')))\n",
    "print(\"'2' is a vowel:\",str(vowel_check('2')))"
   ]
  },
  {
   "cell_type": "code",
   "execution_count": 7,
   "metadata": {},
   "outputs": [
    {
     "name": "stdout",
     "output_type": "stream",
     "text": [
      "Enter a single character : a\n",
      "a is a vowel.\n"
     ]
    }
   ],
   "source": [
    "def vowel_check_single():\n",
    "    inp = input('Enter a single character : ' )\n",
    "    inplower=inp.lower()\n",
    "    if(len(inplower)>1):\n",
    "        print('The length of the character should be 1.')\n",
    "    elif(inplower in 'aeiou'):\n",
    "        print(inp + ' is a vowel.')\n",
    "    else:\n",
    "        print(inp +' is not a vowel.')\n",
    "        \n",
    "vowel_check_single()"
   ]
  },
  {
   "cell_type": "code",
   "execution_count": null,
   "metadata": {},
   "outputs": [],
   "source": []
  },
  {
   "cell_type": "code",
   "execution_count": null,
   "metadata": {},
   "outputs": [],
   "source": []
  }
 ],
 "metadata": {
  "kernelspec": {
   "display_name": "Python 3",
   "language": "python",
   "name": "python3"
  },
  "language_info": {
   "codemirror_mode": {
    "name": "ipython",
    "version": 3
   },
   "file_extension": ".py",
   "mimetype": "text/x-python",
   "name": "python",
   "nbconvert_exporter": "python",
   "pygments_lexer": "ipython3",
   "version": "3.7.0"
  }
 },
 "nbformat": 4,
 "nbformat_minor": 2
}
